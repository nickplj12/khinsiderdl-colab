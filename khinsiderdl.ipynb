{
  "nbformat": 4,
  "nbformat_minor": 0,
  "metadata": {
    "colab": {
      "provenance": [],
      "authorship_tag": "ABX9TyOlj0sm6rHvNS3yYoTehFgJ",
      "include_colab_link": true
    },
    "kernelspec": {
      "name": "python3",
      "display_name": "Python 3"
    },
    "language_info": {
      "name": "python"
    }
  },
  "cells": [
    {
      "cell_type": "markdown",
      "metadata": {
        "id": "view-in-github",
        "colab_type": "text"
      },
      "source": [
        "<a href=\"https://colab.research.google.com/gist/nickplj12/f28f90b07060d1d7ff139c3ac2b60088/khinsider-downloader.ipynb\" target=\"_parent\"><img src=\"https://colab.research.google.com/assets/colab-badge.svg\" alt=\"Open In Colab\"/></a>"
      ]
    },
    {
      "cell_type": "markdown",
      "source": [
        "# Credit for program goes to obskyr on GitHub\n",
        "## Step 1: Prerequisites"
      ],
      "metadata": {
        "id": "9SIFKdUoXQ7i"
      }
    },
    {
      "cell_type": "code",
      "source": [
        "import os\n",
        "from google.colab import drive\n",
        "!pwd\n",
        "drive.mount(\"/content/drive\")\n",
        "!mkdir -p \"/content/drive/My Drive/khdownloads\"cd \"/content/drive/My Drive/khdownloads\"\n",
        "!git clone https://github.com/obskyr/khinsider"
      ],
      "metadata": {
        "id": "lbAMnIu6XH3E"
      },
      "execution_count": null,
      "outputs": []
    },
    {
      "cell_type": "markdown",
      "source": [
        "## Step 2: Downloading"
      ],
      "metadata": {
        "id": "kkb-H-RZjOJt"
      }
    },
    {
      "cell_type": "code",
      "execution_count": null,
      "metadata": {
        "id": "vD0XeDqaTy5l"
      },
      "outputs": [],
      "source": [
        "import khinsider\n",
        "grn = \"\\033[92m\"\n",
        "%cd \"/content/drive/My Drive/khdownloads\"\n",
        "!pwd\n",
        "khprompt = input(\"tag of album/ost?\\nexample of tag: https://downloads.khinsider.com/game-soundtracks/album/please-only-copy-this-part\\ninput here: \")\n",
        "drivefolder = \"/content/drive/My Drive/khdownloads/\"\n",
        "bigthing = os.path.join(drivefolder, khprompt)\n",
        "os.mkdir(bigthing)\n",
        "print(\"did a thing! made directory: % s\" % khprompt)\n",
        "os.chdir(bigthing)\n",
        "!pwd\n",
        "khinsider.download(khprompt)\n",
        "print(f\"{grn}downloading./nshould appear in your google drive at the khdownloads folder.\")"
      ]
    },
    {
      "cell_type": "markdown",
      "source": [
        "## You are done! Download should appear in your khdownloads folder on your Google Drive."
      ],
      "metadata": {
        "id": "37rmiVAljT-t"
      }
    }
  ]
}
